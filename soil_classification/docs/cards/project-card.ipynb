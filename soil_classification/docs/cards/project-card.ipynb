{
  "nbformat": 4,
  "nbformat_minor": 0,
  "metadata": {
    "colab": {
      "provenance": []
    },
    "kernelspec": {
      "name": "python3",
      "display_name": "Python 3"
    },
    "language_info": {
      "name": "python"
    }
  },
  "cells": [
    {
      "cell_type": "code",
      "execution_count": 3,
      "metadata": {
        "colab": {
          "base_uri": "https://localhost:8080/",
          "height": 207
        },
        "id": "8VcGeCZI9C1c",
        "outputId": "924fba6f-f347-4174-820a-5205f11de6d9"
      },
      "outputs": [
        {
          "output_type": "error",
          "ename": "NameError",
          "evalue": "name 'none' is not defined",
          "traceback": [
            "\u001b[0;31m---------------------------------------------------------------------------\u001b[0m",
            "\u001b[0;31mNameError\u001b[0m                                 Traceback (most recent call last)",
            "\u001b[0;32m<ipython-input-3-59f8440cf0cc>\u001b[0m in \u001b[0;36m<cell line: 0>\u001b[0;34m()\u001b[0m\n\u001b[1;32m     90\u001b[0m     \u001b[0;34m\"df_metrics\"\u001b[0m\u001b[0;34m\u001b[0m\u001b[0;34m\u001b[0m\u001b[0m\n\u001b[1;32m     91\u001b[0m    ],\n\u001b[0;32m---> 92\u001b[0;31m    \u001b[0;34m\"execution_count\"\u001b[0m\u001b[0;34m:\u001b[0m \u001b[0mnone\u001b[0m\u001b[0;34m,\u001b[0m\u001b[0;34m\u001b[0m\u001b[0;34m\u001b[0m\u001b[0m\n\u001b[0m\u001b[1;32m     93\u001b[0m    \u001b[0;34m\"outputs\"\u001b[0m\u001b[0;34m:\u001b[0m \u001b[0;34m[\u001b[0m\u001b[0;34m]\u001b[0m\u001b[0;34m\u001b[0m\u001b[0;34m\u001b[0m\u001b[0m\n\u001b[1;32m     94\u001b[0m   },\n",
            "\u001b[0;31mNameError\u001b[0m: name 'none' is not defined"
          ]
        }
      ],
      "source": [
        "{\n",
        " \"cells\": [\n",
        "  {\n",
        "   \"cell_type\": \"markdown\",\n",
        "   \"metadata\": {},\n",
        "   \"source\": [\n",
        "    \"# Soil Image Classification Project Summary\\n\",\n",
        "    \"\\n\",\n",
        "    \"This notebook provides a summary of the model's performance metrics across different soil types in the classification task.\"\n",
        "   ]\n",
        "  },\n",
        "  {\n",
        "   \"cell_type\": \"markdown\",\n",
        "   \"metadata\": {},\n",
        "   \"source\": [\n",
        "    \"## Evaluation Metrics\\n\",\n",
        "    \"The following metrics evaluate the model's precision, recall, and F1-score for each soil class along with overall accuracy.\"\n",
        "   ]\n",
        "  },\n",
        "  {\n",
        "   \"cell_type\": \"code\",\n",
        "   \"metadata\": {},\n",
        "   \"source\": [\n",
        "    \"# Metrics data\\n\",\n",
        "    \"metrics = {\\n\",\n",
        "    \"    \\\"Alluvial soil\\\": {\\\"precision\\\": 1.00, \\\"recall\\\": 1.00, \\\"f1-score\\\": 1.00, \\\"support\\\": 53},\\n\",\n",
        "    \"    \\\"Black soil\\\": {\\\"precision\\\": 1.00, \\\"recall\\\": 1.00, \\\"f1-score\\\": 1.00, \\\"support\\\": 23},\\n\",\n",
        "    \"    \\\"Clay soil\\\": {\\\"precision\\\": 1.00, \\\"recall\\\": 1.00, \\\"f1-score\\\": 1.00, \\\"support\\\": 20},\\n\",\n",
        "    \"    \\\"Red soil\\\": {\\\"precision\\\": 1.00, \\\"recall\\\": 1.00, \\\"f1-score\\\": 1.00, \\\"support\\\": 27},\\n\",\n",
        "    \"    \\\"accuracy\\\": 1.00,\\n\",\n",
        "    \"    \\\"macro avg\\\": {\\\"precision\\\": 1.00, \\\"recall\\\": 1.00, \\\"f1-score\\\": 1.00, \\\"support\\\": 123},\\n\",\n",
        "    \"    \\\"weighted avg\\\": {\\\"precision\\\": 1.00, \\\"recall\\\": 1.00, \\\"f1-score\\\": 1.00, \\\"support\\\": 123}\\n\",\n",
        "    \"}\\n\",\n",
        "    \"\\n\",\n",
        "    \"# Display metrics\\n\",\n",
        "    \"print(\\\"Soil Classification Metrics:\\\\n\\\")\\n\",\n",
        "    \"for soil_type, vals in metrics.items():\\n\",\n",
        "    \"    if isinstance(vals, dict):\\n\",\n",
        "    \"        print(f\\\"{soil_type}:\\\")\\n\",\n",
        "    \"        for metric, value in vals.items():\\n\",\n",
        "    \"            print(f\\\"  {metric.capitalize()}: {value:.2f}\\\")\\n\",\n",
        "    \"    else:\\n\",\n",
        "    \"        print(f\\\"{soil_type.capitalize()}: {vals:.2f}\\\")\\n\",\n",
        "    \"    print()\"\n",
        "   ],\n",
        "   \"execution_count\": null,\n",
        "   \"outputs\": []\n",
        "  }\n",
        " ],\n",
        " \"metadata\": {\n",
        "  \"kernelspec\": {\n",
        "   \"display_name\": \"Python 3\",\n",
        "   \"language\": \"python\",\n",
        "   \"name\": \"python3\"\n",
        "  },\n",
        "  \"language_info\": {\n",
        "   \"codemirror_mode\": {\n",
        "    \"name\": \"ipython\",\n",
        "    \"version\": 3\n",
        "   },\n",
        "   \"file_extension\": \".py\",\n",
        "   \"mimetype\": \"text/x-python\",\n",
        "   \"name\": \"python\",\n",
        "   \"nbconvert_exporter\": \"python\",\n",
        "   \"pygments_lexer\": \"ipython3\",\n",
        "   \"version\": \"3.8\"\n",
        "  }\n",
        " },\n",
        " \"nbformat\": 4,\n",
        " \"nbformat_minor\": 5\n",
        "}\n"
      ]
    }
  ]
}