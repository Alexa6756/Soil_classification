{
 "cells": [
  {
   "cell_type": "markdown",
   "metadata": {},
   "source": [
    "# Soil Image Classification Project Summary\n",
    "\n",
    "This notebook provides a summary of the model's performance metrics across different soil types in the classification task."
   ]
  },
  {
   "cell_type": "markdown",
   "metadata": {},
   "source": [
    "## Evaluation Metrics\n",
    "The following metrics evaluate the model's precision, recall, and F1-score for each soil class along with overall accuracy."
   ]
  },
  {
   "cell_type": "code",
   "metadata": {},
   "source": [
    "# Metrics data\n",
    "metrics = {\n",
    "    \"Alluvial soil\": {\"precision\": 1.00, \"recall\": 1.00, \"f1-score\": 1.00, \"support\": 53},\n",
    "    \"Black soil\": {\"precision\": 1.00, \"recall\": 1.00, \"f1-score\": 1.00, \"support\": 23},\n",
    "    \"Clay soil\": {\"precision\": 1.00, \"recall\": 1.00, \"f1-score\": 1.00, \"support\": 20},\n",
    "    \"Red soil\": {\"precision\": 1.00, \"recall\": 1.00, \"f1-score\": 1.00, \"support\": 27},\n",
    "    \"accuracy\": 1.00,\n",
    "    \"macro avg\": {\"precision\": 1.00, \"recall\": 1.00, \"f1-score\": 1.00, \"support\": 123},\n",
    "    \"weighted avg\": {\"precision\": 1.00, \"recall\": 1.00, \"f1-score\": 1.00, \"support\": 123}\n",
    "}\n",
    "\n",
    "# Display metrics\n",
    "print(\"Soil Classification Metrics:\\n\")\n",
    "for soil_type, vals in metrics.items():\n",
    "    if isinstance(vals, dict):\n",
    "        print(f\"{soil_type}:\")\n",
    "        for metric, value in vals.items():\n",
    "            print(f\"  {metric.capitalize()}: {value:.2f}\")\n",
    "    else:\n",
    "        print(f\"{soil_type.capitalize()}: {vals:.2f}\")\n",
    "    print()"
   ],
   "execution_count": null,
   "outputs": []
  }
 ],
 "metadata": {
  "kernelspec": {
   "display_name": "Python 3",
   "language": "python",
   "name": "python3"
  },
  "language_info": {
   "codemirror_mode": {
    "name": "ipython",
    "version": 3
   },
   "file_extension": ".py",
   "mimetype": "text/x-python",
   "name": "python",
   "nbconvert_exporter": "python",
   "pygments_lexer": "ipython3",
   "version": "3.8"
  }
 },
 "nbformat": 4,
 "nbformat_minor": 5
}
