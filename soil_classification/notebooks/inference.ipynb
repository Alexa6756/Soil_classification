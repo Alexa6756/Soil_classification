# ============================ Inference Notebook ============================

# This notebook loads a trained ResNet18 model and generates predictions on test images
# for the Soil Classification Challenge.

import os
import pandas as pd
from PIL import Image

import torch
from torch.utils.data import Dataset, DataLoader
from torchvision import transforms, models

# Load test data CSV containing image IDs
test_csv_path = '/kaggle/input/soil-classification/soil_classification-2025/test_ids.csv'
test_image_dir = '/kaggle/input/soil-classification/soil_classification-2025/test/'

test_df = pd.read_csv(test_csv_path)
# Construct full image paths
test_df['image_path'] = test_df['image_id'].apply(lambda x: os.path.join(test_image_dir, x))

# Define image transformations matching training preprocessing
transform = transforms.Compose([
    transforms.Resize((224, 224)),
    transforms.ToTensor(),
    # Normalization (if used during training) should be added here, e.g.,
    # transforms.Normalize(mean=[0.485, 0.456, 0.406],
    #                      std=[0.229, 0.224, 0.225])
])

# Custom Dataset for loading test images
class SoilTestDataset(Dataset):
    def __init__(self, dataframe, transform=None):
        self.dataframe = dataframe.reset_index(drop=True)
        self.transform = transform

    def __len__(self):
        return len(self.dataframe)

    def __getitem__(self, idx):
        image_path = self.dataframe.loc[idx, 'image_path']
        image = Image.open(image_path).convert('RGB')
        if self.transform:
            image = self.transform(image)
        return image

# Instantiate DataLoader
batch_size = 32
test_dataset = SoilTestDataset(test_df, transform=transform)
test_loader = DataLoader(test_dataset, batch_size=batch_size, shuffle=False)

# Define label mappings
label2idx = {'Black Soil': 0, 'Red Soil': 1, 'Alluvial Soil': 2, 'Laterite Soil': 3}
idx2label = {v: k for k, v in label2idx.items()}

# Setup device
device = torch.device("cuda" if torch.cuda.is_available() else "cpu")

# Load pretrained ResNet18 model
model = models.resnet18(weights=models.ResNet18_Weights.DEFAULT)
model.fc = torch.nn.Linear(model.fc.in_features, len(label2idx))

# Load saved model weights
model_path = "best_soil_model.pth"
model.load_state_dict(torch.load(model_path, map_location=device))
model.to(device)
model.eval()

# Generate predictions
predictions = []

with torch.no_grad():
    for images in test_loader:
        images = images.to(device)
        outputs = model(images)
        preds = torch.argmax(outputs, dim=1)
        predictions.extend(preds.cpu().numpy())

# Map predictions back to soil type labels
test_df['soil_type'] = [idx2label[idx] for idx in predictions]

# Prepare submission file
submission = test_df[['image_id', 'soil_type']]
submission.to_csv("submission.csv", index=False)

print("✅ submission.csv saved successfully.")
