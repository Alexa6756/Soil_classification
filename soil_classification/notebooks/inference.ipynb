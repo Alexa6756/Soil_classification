# ============================ Inference Notebook ============================

# This notebook loads the trained model and generates predictions on test images.

import os
import pandas as pd
from PIL import Image

import torch
from torch.utils.data import Dataset, DataLoader
from torchvision import transforms, models

# Load test data
test_df = pd.read_csv('/kaggle/input/soil-classification/soil_classification-2025/test_ids.csv')
test_df['image_path'] = '/kaggle/input/soil-classification/soil_classification-2025/test/' + test_df['image_id']

# Transforms
transform = transforms.Compose([
    transforms.Resize((224, 224)),
    transforms.ToTensor()
])

# Dataset class
class SoilTestDataset(Dataset):
    def __init__(self, df, transform):
        self.df = df
        self.transform = transform
    def __len__(self):
        return len(self.df)
    def __getitem__(self, idx):
        img = Image.open(self.df.iloc[idx]['image_path']).convert('RGB')
        img = self.transform(img)
        return img

# DataLoader
test_loader = DataLoader(SoilTestDataset(test_df, transform), batch_size=32)

# Load model
label2idx = {'Black Soil': 0, 'Red Soil': 1, 'Alluvial Soil': 2, 'Laterite Soil': 3}
idx2label = {v: k for k, v in label2idx.items()}

device = torch.device("cuda" if torch.cuda.is_available() else "cpu")
model = models.resnet18(weights=models.ResNet18_Weights.DEFAULT)
model.fc = torch.nn.Linear(model.fc.in_features, len(label2idx))
model.load_state_dict(torch.load("best_soil_model.pth"))
model.to(device)
model.eval()

# Predict
predictions = []
with torch.no_grad():
    for images in test_loader:
        images = images.to(device)
        outputs = model(images)
        preds = torch.argmax(outputs, dim=1)
        predictions.extend(preds.cpu().numpy())

# Prepare submission
test_df['soil_type'] = [idx2label[idx] for idx in predictions]
submission = test_df[['image_id', 'soil_type']]
submission.to_csv("submission.csv", index=False)
print("✅ submission.csv saved")

