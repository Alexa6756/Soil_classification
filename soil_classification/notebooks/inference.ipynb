{
  "nbformat": 4,
  "nbformat_minor": 0,
  "metadata": {
    "colab": {
      "provenance": []
    },
    "kernelspec": {
      "name": "python3",
      "display_name": "Python 3"
    },
    "language_info": {
      "name": "python"
    }
  },
  "cells": [
    {
      "cell_type": "code",
      "execution_count": null,
      "metadata": {
        "id": "iuh5dAJNx96a"
      },
      "outputs": [],
      "source": [
        "class SoilTestDataset(Dataset):\n",
        "    def __init__(self, dataframe, transform=None):\n",
        "        self.dataframe = dataframe\n",
        "        self.transform = transform\n",
        "\n",
        "    def __len__(self):\n",
        "        return len(self.dataframe)\n",
        "\n",
        "    def __getitem__(self, idx):\n",
        "        image_path = self.dataframe.iloc[idx]['image_path']\n",
        "        image = Image.open(image_path).convert('RGB')\n",
        "        if self.transform:\n",
        "            image = self.transform(image)\n",
        "        return image\n",
        "\n",
        "# Create DataLoader for test data\n",
        "test_dataset = SoilTestDataset(test_df, transform=transform)\n",
        "test_loader = DataLoader(test_dataset, batch_size=32, shuffle=False)\n",
        "\n",
        "# Load label mappings (must be consistent with training)\n",
        "label_to_index_mapping = {'Alluvial soil': 0, 'Black soil': 1, 'Clay soil': 2, 'Red soil': 3}\n",
        "index_to_label_mapping = {v: k for k, v in label_to_index_mapping.items()}\n",
        "\n",
        "# Load the model architecture and weights\n",
        "model = models.resnet18()\n",
        "model.fc = torch.nn.Linear(model.fc.in_features, len(label_to_index_mapping))\n",
        "model.load_state_dict(torch.load(\"best_soil_model.pth\", map_location=device))\n",
        "model.to(device)\n",
        "model.eval()\n",
        "\n",
        "predicted_indices = []\n",
        "with torch.no_grad():\n",
        "    for images in test_loader:\n",
        "        images = images.to(device)\n",
        "        outputs = model(images)\n",
        "        _, preds = torch.max(outputs, 1)\n",
        "        predicted_indices.extend(preds.cpu().numpy())\n",
        "\n",
        "# Map predictions back to soil type labels\n",
        "test_df['soil_type'] = [index_to_label_mapping[idx] for idx in predicted_indices]\n",
        "\n",
        "# Save submission file\n",
        "submission = test_df[['image_id', 'soil_type']]\n",
        "submission.to_csv(\"submission.csv\", index=False)\n",
        "\n",
        "print(\"✅ Submission file saved as 'submission.csv'\")\n"
      ]
    }
  ]
}