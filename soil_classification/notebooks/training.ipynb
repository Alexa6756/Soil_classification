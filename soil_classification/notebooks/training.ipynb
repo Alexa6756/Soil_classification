# ============================ Training Notebook ============================

# This notebook trains a ResNet-18 model on the soil classification dataset.

import os
import pandas as pd
from PIL import Image
from sklearn.model_selection import train_test_split

import torch
import torch.nn as nn
from torch.utils.data import Dataset, DataLoader
from torchvision import transforms, models

# Load data
train_df = pd.read_csv('/kaggle/input/soil-classification/soil_classification-2025/train_labels.csv')
train_df['image_path'] = '/kaggle/input/soil-classification/soil_classification-2025/train/' + train_df['image_id']

# Label encoding
label2idx = {label: idx for idx, label in enumerate(train_df['soil_type'].unique())}
idx2label = {idx: label for label, idx in label2idx.items()}
train_df['label_index'] = train_df['soil_type'].map(label2idx)

# Split
train_set, val_set = train_test_split(train_df, test_size=0.1, stratify=train_df['label_index'], random_state=42)

# Transforms
transform = transforms.Compose([
    transforms.Resize((224, 224)),
    transforms.ToTensor()
])

# Dataset class
class SoilDataset(Dataset):
    def __init__(self, df, transform):
        self.df = df
        self.transform = transform
    def __len__(self):
        return len(self.df)
    def __getitem__(self, idx):
        row = self.df.iloc[idx]
        img = Image.open(row['image_path']).convert('RGB')
        img = self.transform(img)
        label = row['label_index']
        return img, label

# DataLoaders
train_loader = DataLoader(SoilDataset(train_set, transform), batch_size=32, shuffle=True)
val_loader = DataLoader(SoilDataset(val_set, transform), batch_size=32)

# Model
device = torch.device("cuda" if torch.cuda.is_available() else "cpu")
model = models.resnet18(weights=models.ResNet18_Weights.DEFAULT)
model.fc = nn.Linear(model.fc.in_features, len(label2idx))
model.to(device)

# Loss & Optimizer
criterion = nn.CrossEntropyLoss()
optimizer = torch.optim.Adam(model.parameters(), lr=1e-4)

# Training loop
def train(epochs=5):
    best_acc = 0.0
    for epoch in range(epochs):
        model.train()
        correct = total = loss_sum = 0
        for images, labels in train_loader:
            images, labels = images.to(device), labels.to(device)
            optimizer.zero_grad()
            outputs = model(images)
            loss = criterion(outputs, labels)
            loss.backward()
            optimizer.step()
            loss_sum += loss.item() * images.size(0)
            preds = outputs.argmax(dim=1)
            correct += (preds == labels).sum().item()
            total += labels.size(0)
        acc = correct / total
        print(f"Epoch {epoch+1}, Loss: {loss_sum/total:.4f}, Accuracy: {acc:.4f}")

        # Validation
        model.eval()
        val_correct = val_total = 0
        with torch.no_grad():
            for images, labels in val_loader:
                images, labels = images.to(device), labels.to(device)
                outputs = model(images)
                preds = outputs.argmax(dim=1)
                val_correct += (preds == labels).sum().item()
                val_total += labels.size(0)
        val_acc = val_correct / val_total
        print(f"Validation Accuracy: {val_acc:.4f}")
        if val_acc > best_acc:
            best_acc = val_acc
            torch.save(model.state_dict(), "best_soil_model.pth")
            print("✅ Best model saved")

train(epochs=5)

