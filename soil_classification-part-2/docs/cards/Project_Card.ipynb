{
 "cells": [
  {
   "cell_type": "markdown",
   "id": "cead21d8",
   "metadata": {},
   "source": [
    "# Soil Image Classification Project Overview (Binary Classification)\n",
    "\n",
    "This notebook presents a detailed summary of the binary Soil Image Classification task, which aims to determine whether a given image belongs to a particular soil class (labeled `1`) or not (`0`). The model is trained using a convolutional neural network (CNN) based on the ResNet18 architecture. The project includes data preparation, model training, evaluation, and submission generation."
   ]
  },
  {
   "cell_type": "markdown",
   "id": "50f48c16",
   "metadata": {},
   "source": [
    "## Dataset Description\n",
    "\n",
    "The dataset comprises high-resolution soil images along with binary labels:\n",
    "\n",
    "- **Label 1**: Indicates the image belongs to the target soil class.\n",
    "- **Label 0**: Indicates it does not belong to the target class.\n",
    "\n",
    "**Data Sources:**\n",
    "\n",
    "- Training images and labels: `train_labels.csv`\n",
    "- Test images: `test_ids.csv`\n",
    "- Images are stored in respective train/test folders and resized to `224×224` pixels before training."
   ]
  },
  {
   "cell_type": "markdown",
   "id": "2dea4743",
   "metadata": {},
   "source": [
    "## Methodology\n",
    "\n",
    "The classification pipeline is composed of the following stages:\n",
    "\n",
    "1. **Data Loading & Preparation**\n",
    "   - Paths are constructed for image access.\n",
    "   - Labels are ensured to be binary (`int` type).\n",
    "   - Stratified split is used to maintain class balance in training and validation sets.\n",
    "\n",
    "2. **Data Augmentation**\n",
    "   - Applied using `Albumentations`:\n",
    "     - Random horizontal flip\n",
    "     - Brightness/contrast adjustment\n",
    "     - Random rotation\n",
    "     - Normalization\n",
    "   - Enhances generalization and reduces overfitting.\n",
    "\n",
    "3. **Model Architecture**\n",
    "   - **ResNet18** pre-trained on ImageNet.\n",
    "   - The final layer modified to output probabilities for two classes (binary classification).\n",
    "\n",
    "4. **Loss Function & Optimization**\n",
    "   - `CrossEntropyLoss` used.\n",
    "   - Optimized using `Adam` with a learning rate of `1e-4`.\n",
    "\n",
    "5. **Training Loop**\n",
    "   - Model trains for 5 epochs.\n",
    "   - Monitors **F1-score** on training and validation sets.\n",
    "   - Saves the best model based on validation performance.\n",
    "\n",
    "6. **Inference**\n",
    "   - The best-performing model is used for test prediction.\n",
    "   - Outputs are mapped back to original label names (`0` or `1`).\n",
    "   - Final predictions are saved to `submission.csv`."
   ]
  },
  {
   "cell_type": "markdown",
   "id": "352f1d54",
   "metadata": {},
   "source": [
    "## Evaluation Metrics\n",
    "\n",
    "Model performance is primarily measured using the **F1-score**, which is crucial for imbalanced binary classification. Additionally, training loss is tracked.\n",
    "\n",
    "### Sample Output from Training:\n",
    "```\n",
    "Epoch 1: Train Loss = 0.1617, Train F1 = 0.8421\n",
    "Validation F1: 0.8765\n",
    "✅ New best model saved\n",
    "...\n",
    "```"
   ]
  },
  {
   "cell_type": "markdown",
   "id": "7f018748",
   "metadata": {},
   "source": [
    "## Conclusion\n",
    "\n",
    "This project demonstrates that a well-designed pipeline leveraging ResNet18 and advanced augmentation techniques can effectively classify binary soil categories. The use of stratified splitting and F1-score monitoring ensures the model performs robustly even in class-imbalanced scenarios."
   ]
  }
 ],
 "metadata": {},
 "nbformat": 4,
 "nbformat_minor": 5
}
