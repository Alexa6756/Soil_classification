{
  "nbformat": 4,
  "nbformat_minor": 0,
  "metadata": {
    "colab": {
      "provenance": []
    },
    "kernelspec": {
      "name": "python3",
      "display_name": "Python 3"
    },
    "language_info": {
      "name": "python"
    }
  },
  "cells": [
    {
      "cell_type": "code",
      "execution_count": null,
      "metadata": {
        "id": "P9yFBXwetx1w"
      },
      "outputs": [],
      "source": [
        "\n",
        "import os\n",
        "import pandas as pd\n",
        "import numpy as np\n",
        "from PIL import Image\n",
        "import torch\n",
        "from torch.utils.data import Dataset, DataLoader\n",
        "from torchvision import models\n",
        "import albumentations as A\n",
        "from albumentations.pytorch import ToTensorV2\n",
        "\n",
        "test_csv = '/kaggle/input/soil-classification-part-2/soil_competition-2025/test_ids.csv'\n",
        "test_df = pd.read_csv(test_csv)\n",
        "test_df['image_path'] = '/kaggle/input/soil-classification-part-2/soil_competition-2025/test/' + test_df['image_id']\n",
        "\n",
        "val_transform = A.Compose([\n",
        "    A.Resize(224, 224),\n",
        "    A.Normalize(),\n",
        "    ToTensorV2()\n",
        "])\n",
        "\n",
        "class SoilDataset(Dataset):\n",
        "    def __init__(self, df, transform=None):\n",
        "        self.df = df\n",
        "        self.transform = transform\n",
        "\n",
        "    def __len__(self):\n",
        "        return len(self.df)\n",
        "\n",
        "    def __getitem__(self, idx):\n",
        "        img_path = self.df.iloc[idx]['image_path']\n",
        "        image = Image.open(img_path).convert('RGB')\n",
        "        image = np.array(image)\n",
        "        if self.transform:\n",
        "            image = self.transform(image=image)['image']\n",
        "        return image\n",
        "\n",
        "test_loader = DataLoader(SoilDataset(test_df, val_transform), batch_size=32)\n",
        "\n",
        "device = torch.device(\"cuda\" if torch.cuda.is_available() else \"cpu\")\n",
        "model = models.resnet18(weights=models.ResNet18_Weights.DEFAULT)\n",
        "model.fc = torch.nn.Linear(model.fc.in_features, 2)\n",
        "model.load_state_dict(torch.load(\"best_soil_model.pth\", map_location=device))\n",
        "model = model.to(device)\n",
        "model.eval()\n",
        "\n",
        "test_predictions = []\n",
        "with torch.no_grad():\n",
        "    for images in test_loader:\n",
        "        images = images.to(device)\n",
        "        outputs = model(images)\n",
        "        preds = torch.argmax(outputs, 1)\n",
        "        test_predictions.extend(preds.cpu().numpy())\n",
        "\n",
        "test_df['label'] = [str(pred) for pred in test_predictions]\n",
        "submission = test_df[['image_id', 'label']]\n",
        "submission.to_csv(\"submission.csv\", index=False)\n",
        "print(\"Submission file saved as submission.csv\")\n"
      ]
    }
  ]
}